{
 "cells": [
  {
   "cell_type": "code",
   "execution_count": 67,
   "id": "7cde6492",
   "metadata": {},
   "outputs": [],
   "source": [
    "import pandas as pd\n",
    "\n",
    "data1 = pd.read_html(\"https://www.screener.in/company/ASIANPAINT/consolidated/\", skiprows=0, header=0)[0]\n",
    "\n",
    "columnNumber = []\n",
    "growthRateList = []"
   ]
  },
  {
   "cell_type": "code",
   "execution_count": 68,
   "id": "917d0b36",
   "metadata": {},
   "outputs": [
    {
     "data": {
      "text/plain": [
       "Index(['Unnamed: 0', 'Sep 2019', 'Dec 2019', 'Mar 2020', 'Jun 2020',\n",
       "       'Sep 2020', 'Dec 2020', 'Mar 2021', 'Jun 2021', 'Sep 2021', 'Dec 2021',\n",
       "       'Mar 2022', 'Jun 2022', 'Sep 2022'],\n",
       "      dtype='object')"
      ]
     },
     "execution_count": 68,
     "metadata": {},
     "output_type": "execute_result"
    }
   ],
   "source": [
    "data1.columns"
   ]
  },
  {
   "cell_type": "code",
   "execution_count": 69,
   "id": "8d9d3d6b",
   "metadata": {},
   "outputs": [
    {
     "name": "stdout",
     "output_type": "stream",
     "text": [
      "[]\n",
      "[]\n",
      "[]\n",
      "[3]\n",
      "[3, 4]\n",
      "[3, 4, 5]\n",
      "[3, 4, 5, 6]\n",
      "[3, 4, 5, 6, 7]\n",
      "[3, 4, 5, 6, 7, 8]\n",
      "[3, 4, 5, 6, 7, 8, 9]\n",
      "[3, 4, 5, 6, 7, 8, 9, 10]\n",
      "[3, 4, 5, 6, 7, 8, 9, 10]\n",
      "[3, 4, 5, 6, 7, 8, 9, 10]\n",
      "[3, 4, 5, 6, 7, 8, 9, 10]\n"
     ]
    }
   ],
   "source": [
    "for i in range(len(data1.columns)):\n",
    "    str = data1.columns[i].split(\" \")\n",
    "    if str[1] == \"2020\" or str[1] == \"2021\":\n",
    "        columnNumber.append(i)\n",
    "    print(columnNumber)"
   ]
  },
  {
   "cell_type": "code",
   "execution_count": 70,
   "id": "94fdf183",
   "metadata": {},
   "outputs": [
    {
     "name": "stdout",
     "output_type": "stream",
     "text": [
      "[-14.464944649446496, -36.94995685936152, 83.031132398221, 26.878504672897197, -2.0182675309369476, -16.02766501278003, 27.054610564010744, 20.166290868094702]\n"
     ]
    }
   ],
   "source": [
    "for k in columnNumber:\n",
    "    data1.iloc[0,k]\n",
    "    growthRt = (((int(data1.iloc[0,k]) - int(data1.iloc[0,k-1]))/int(data1.iloc[0,k-1]))*100)\n",
    "    growthRateList.append(growthRt)\n",
    "\n",
    "avg = 0\n",
    "\n",
    "print(growthRateList)\n",
    "for i in growthRateList:\n",
    "    avg += i\n",
    "    \n",
    "avg = avg/len(growthRateList)"
   ]
  },
  {
   "cell_type": "code",
   "execution_count": 75,
   "id": "f7e800e0",
   "metadata": {},
   "outputs": [
    {
     "name": "stdout",
     "output_type": "stream",
     "text": [
      "2\n"
     ]
    }
   ],
   "source": [
    "print(6%4)"
   ]
  },
  {
   "cell_type": "code",
   "execution_count": null,
   "id": "11baedae",
   "metadata": {},
   "outputs": [],
   "source": []
  },
  {
   "cell_type": "code",
   "execution_count": null,
   "id": "4871c01b",
   "metadata": {},
   "outputs": [],
   "source": []
  }
 ],
 "metadata": {
  "kernelspec": {
   "display_name": "Python 3 (ipykernel)",
   "language": "python",
   "name": "python3"
  },
  "language_info": {
   "codemirror_mode": {
    "name": "ipython",
    "version": 3
   },
   "file_extension": ".py",
   "mimetype": "text/x-python",
   "name": "python",
   "nbconvert_exporter": "python",
   "pygments_lexer": "ipython3",
   "version": "3.8.10"
  }
 },
 "nbformat": 4,
 "nbformat_minor": 5
}
